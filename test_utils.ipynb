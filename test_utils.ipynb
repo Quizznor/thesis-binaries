{
 "cells": [
  {
   "cell_type": "code",
   "execution_count": null,
   "metadata": {},
   "outputs": [],
   "source": [
    "from matplotlib import path as mpath\n",
    "\n",
    "class OwnErrorMarker(mpath.Path):\n",
    "\n",
    "    def __init__(self, *args, subtract_mean=True, **kwargs):\n",
    "        super().__init__(*args, **kwargs)\n",
    "\n",
    "        if subtract_mean:\n",
    "            self.vertices = (self.vertices - self.vertices.mean(axis=0))\n",
    "        self._vertices_orig = self.vertices\n",
    "        self._scatter_kwargs = dict(facecolors='none',\n",
    "                                    capstyle='round')\n",
    "\n",
    "    def reset(self):\n",
    "        self.vertices = self._vertices_orig\n",
    "\n",
    "    def top(self, scale=1):\n",
    "        self.vertices = self._vertices_orig * [scale, scale]\n",
    "        return self\n",
    "\n",
    "    def bot(self, scale=1):\n",
    "        self.vertices = self._vertices_orig * [scale, -scale]\n",
    "        return self\n",
    "\n",
    "    def update_scatter_kwargs(self, **scatter_kwargs):\n",
    "        self._scatter_kwargs.update(**scatter_kwargs)\n",
    "\n",
    "    def get_scatter_kwargs(self):\n",
    "        return self._scatter_kwargs\n",
    "\n",
    "    def add_to_legend(self, ax, label, offset=3, ms=100,\n",
    "                      rotate=True, scale=1, color='k',\n",
    "                      do_not_use_label=False):\n",
    "        loc_vertices = np.concatenate(\n",
    "            [(self._vertices_orig + [0, offset]) * [scale, scale],\n",
    "             (self._vertices_orig + [0, offset]) * [scale, -scale]])\n",
    "\n",
    "        loc_codes = np.concatenate([self.codes, self.codes])\n",
    "\n",
    "        if rotate:\n",
    "            loc_vertices = loc_vertices @ [[0, 1], [1, 0]]\n",
    "\n",
    "        return ax.scatter(np.nan, np.nan, s=ms, edgecolor=color,\n",
    "                          marker=mpath.Path(loc_vertices, loc_codes),\n",
    "                          label=None if do_not_use_label else label,\n",
    "                          **self._scatter_kwargs)\n",
    "\n",
    "\n",
    "ERROR_MARKERS = {\n",
    "    \"fancy\": OwnErrorMarker(\n",
    "        [[-2, -1], [-1, 1], [1, 1], [2, -1]],\n",
    "        [mpath.Path.MOVETO, mpath.Path.LINETO,\n",
    "         mpath.Path.LINETO, mpath.Path.LINETO]),\n",
    "    \"rectangle\": OwnErrorMarker(\n",
    "        [[-3, -1], [-3, 1], [3, 1], [3, -1]],\n",
    "        [mpath.Path.MOVETO, mpath.Path.LINETO,\n",
    "         mpath.Path.LINETO, mpath.Path.LINETO]),\n",
    "    \"triangle\": OwnErrorMarker(\n",
    "        [[-2, -1], [0, 1], [2, -1]],\n",
    "        [mpath.Path.MOVETO, mpath.Path.LINETO,\n",
    "         mpath.Path.LINETO]),\n",
    "}\n",
    "\n",
    "# plotting stuff\n",
    "def plot_error_markers(ax, x, y, ydown, yup=None, markerstyle='rectangle',\n",
    "                       scale=1, color='k', **scatter_kwargs):\n",
    "    #from kapu.extension.markers import ERROR_MARKERS\n",
    "\n",
    "    om = ERROR_MARKERS[markerstyle]\n",
    "\n",
    "    scatter_kwargs.update(**om.get_scatter_kwargs())\n",
    "\n",
    "    if yup is None:\n",
    "        yup = ydown\n",
    "\n",
    "    sca1 = ax.scatter(x, y + yup, edgecolors=color,\n",
    "                      marker=om.top(scale), **scatter_kwargs)\n",
    "    sca2 = ax.scatter(x, y - ydown, edgecolors=color,\n",
    "                      marker=om.bot(scale), **scatter_kwargs)\n",
    "\n",
    "    return (sca1, sca2), om\n",
    "\n",
    "# legend stuff\n",
    "def add_errormarker_labels(ax, markers, labels, colors=None,\n",
    "                           new_legend=False, rotate=True, legend_kwargs={}):\n",
    "\n",
    "    if colors is None:\n",
    "        colors = ['k'] * len(markers)\n",
    "\n",
    "    pcs = []\n",
    "    for marker, label, color in zip(markers, labels, colors):\n",
    "        marker = ERROR_MARKERS[marker]\n",
    "        path_collection = marker.add_to_legend(ax, label, rotate=rotate, color=color,\n",
    "do_not_use_label=new_legend)\n",
    "        pcs.append(path_collection)\n",
    "\n",
    "    if new_legend:\n",
    "        legend = ax.legend(pcs, labels, **legend_kwargs)\n",
    "        return legend\n",
    "    else:\n",
    "        pass"
   ]
  },
  {
   "cell_type": "code",
   "execution_count": null,
   "metadata": {},
   "outputs": [],
   "source": [
    "from utils.binaries import *\n",
    "from utils.plotting import *\n",
    "\n",
    "fig, ax = plt.subplots()\n",
    "\n",
    "dy = np.abs(np.random.normal(scale=5, size=50))\n",
    "x = np.linspace(0, 10, 50)\n",
    "y = x + dy\n",
    "\n",
    "ax.errorbar(x, y, 0.5*dy, fmt='o', label='hallo')\n",
    "plot_error_markers(ax, x, y, dy, s=20)\n",
    "\n",
    "\n",
    "ax.legend()"
   ]
  },
  {
   "cell_type": "code",
   "execution_count": 2,
   "metadata": {},
   "outputs": [
    {
     "name": "stderr",
     "output_type": "stream",
     "text": [
      "\u001b[1m\u001b[32m13:37:52\u001b[0m (\u001b[1m\u001b[35m   +6.2s\u001b[0m) \u001b[1m\u001b[32m[INFO   ]\u001b[0m -- import \u001b[1m\u001b[31mlogging\u001b[0m\n",
      "\u001b[1m\u001b[32m13:37:52\u001b[0m (\u001b[1m\u001b[35m  +252ms\u001b[0m) \u001b[1m\u001b[32m[INFO   ]\u001b[0m -- import \u001b[1m\u001b[31mnumpy\u001b[0m as \u001b[1m\u001b[31mnp\u001b[0m\n",
      "\u001b[1m\u001b[32m13:37:52\u001b[0m (\u001b[1m\u001b[35m   +10ms\u001b[0m) \u001b[1m\u001b[32m[INFO   ]\u001b[0m -- import \u001b[1m\u001b[31muncertainties\u001b[0m\n",
      "\u001b[1m\u001b[32m13:37:52\u001b[0m (\u001b[1m\u001b[35m  +382ms\u001b[0m) \u001b[1m\u001b[32m[INFO   ]\u001b[0m -- import \u001b[1m\u001b[31mpandas\u001b[0m as \u001b[1m\u001b[31mpd\u001b[0m\n",
      "\u001b[1m\u001b[33m13:37:52\u001b[0m (\u001b[1m\u001b[35m    +1ms\u001b[0m) \u001b[1m\u001b[33m[WARNING]\u001b[0m -- pandas support to be dropped at some point!\n",
      "\u001b[1m\u001b[32m13:37:52\u001b[0m (\u001b[1m\u001b[35m    +2ms\u001b[0m) \u001b[1m\u001b[32m[INFO   ]\u001b[0m -- import \u001b[1m\u001b[31mbinaries.tools\u001b[0m as \u001b[1m\u001b[31mtools\u001b[0m\n",
      "\u001b[1m\u001b[32m13:37:52\u001b[0m (\u001b[1m\u001b[35m    +2ms\u001b[0m) \u001b[1m\u001b[32m[INFO   ]\u001b[0m -- set MONI_PATH = PosixPath('/cr/work/filip/monit_and_sd')\n",
      "\u001b[1m\u001b[32m13:37:52\u001b[0m (\u001b[1m\u001b[35m    +1ms\u001b[0m) \u001b[1m\u001b[32m[INFO   ]\u001b[0m -- set HIST_PATH = PosixPath('/cr/work/filip/monit_and_sd')\n",
      "\u001b[1m\u001b[32m13:37:52\u001b[0m (\u001b[1m\u001b[35m    +0ms\u001b[0m) \u001b[1m\u001b[32m[INFO   ]\u001b[0m -- set PLOT_PATH = PosixPath('/cr/data01/filip/plots')\n",
      "\u001b[1m\u001b[32m13:37:52\u001b[0m (\u001b[1m\u001b[35m    +1ms\u001b[0m) \u001b[1m\u001b[32m[INFO   ]\u001b[0m -- set DATA_PATH = PosixPath('/cr/data01/filip/Data')\n",
      "\u001b[1m\u001b[32m13:37:52\u001b[0m (\u001b[1m\u001b[35m    +1ms\u001b[0m) \u001b[1m\u001b[32m[INFO   ]\u001b[0m -- set SCAN_PATH = PosixPath('/cr/data01/filip/xy-calibration')\n",
      "\u001b[1m\u001b[32m13:37:52\u001b[0m (\u001b[1m\u001b[35m    +0ms\u001b[0m) \u001b[1m\u001b[32m[INFO   ]\u001b[0m -- set OFLN_PATH = PosixPath('/cr/data01/filip/offline/install')\n"
     ]
    }
   ],
   "source": [
    "from utils.auger.sd import sim"
   ]
  },
  {
   "cell_type": "code",
   "execution_count": 4,
   "metadata": {},
   "outputs": [
    {
     "name": "stderr",
     "output_type": "stream",
     "text": [
      "\u001b[1m\u001b[32m13:38:06\u001b[0m (\u001b[1m\u001b[35m  +11.0s\u001b[0m) \u001b[1m\u001b[32m[INFO   ]\u001b[0m -- filesystem established successfully\n",
      "\u001b[1m\u001b[32m13:38:06\u001b[0m (\u001b[1m\u001b[35m    +5ms\u001b[0m) \u001b[1m\u001b[32m[INFO   ]\u001b[0m -- Corsika n_files = 3035, queue = 2500, rethrows = 2 => 5000 sims\n",
      "\u001b[1m\u001b[32m13:38:06\u001b[0m (\u001b[1m\u001b[35m    +5ms\u001b[0m) \u001b[1m\u001b[32m[INFO   ]\u001b[0m -- Corsika n_files = 3035, queue = 2500, rethrows = 2 => 5000 sims\n",
      "\u001b[1m\u001b[32m13:38:06\u001b[0m (\u001b[1m\u001b[35m    +5ms\u001b[0m) \u001b[1m\u001b[32m[INFO   ]\u001b[0m -- scripts have been written\n",
      "\u001b[1m\u001b[32m13:38:07\u001b[0m (\u001b[1m\u001b[35m   +1.5s\u001b[0m) \u001b[1m\u001b[32m[INFO   ]\u001b[0m -- source compiled, we're done!\n"
     ]
    }
   ],
   "source": [
    "test_sim = sim.Simulation('icrc2025-test7-SdMdInfillSimRec',\n",
    "                        offline='icrc2025-test7',\n",
    "                        src='/cr/users/filip/Projects/PhotonSimulations/discrimination/icrc2025-test5-SdMdInfillSimRec',\n",
    "                        request_memory = \"6G\",\n",
    "                        primary=\"proton\",\n",
    "                        energy=\"18_18.5\",\n",
    "                        model=\"epos_lhc\",\n",
    "                        seed = 5,\n",
    "                        queue = 5000,\n",
    "                        verbose=False)"
   ]
  },
  {
   "cell_type": "code",
   "execution_count": null,
   "metadata": {},
   "outputs": [],
   "source": [
    "print(os.listdir(\"/lsdf/auger/corsika/prague/EPOS_LHC/photon/17_17.5\"))"
   ]
  },
  {
   "cell_type": "code",
   "execution_count": null,
   "metadata": {},
   "outputs": [],
   "source": [
    "is_sim_file = (lambda s: s.startswith(\"DAT\")\n",
    "                           and not s.endswith(\".long\")\n",
    "                           and not s.endswith(\".lst\")\n",
    "                           and not s.endswith(\".gz\"))\n",
    "\n",
    "target_path = '/lsdf/auger/corsika/prague/EPOS_LHC/photon/16_16.5'\n",
    "print(len(list(filter(is_sim_file, os.listdir(target_path)))))"
   ]
  },
  {
   "cell_type": "code",
   "execution_count": null,
   "metadata": {},
   "outputs": [],
   "source": []
  }
 ],
 "metadata": {
  "kernelspec": {
   "display_name": ".venv (3.10.12)",
   "language": "python",
   "name": "python3"
  },
  "language_info": {
   "codemirror_mode": {
    "name": "ipython",
    "version": 3
   },
   "file_extension": ".py",
   "mimetype": "text/x-python",
   "name": "python",
   "nbconvert_exporter": "python",
   "pygments_lexer": "ipython3",
   "version": "3.10.12"
  }
 },
 "nbformat": 4,
 "nbformat_minor": 2
}
